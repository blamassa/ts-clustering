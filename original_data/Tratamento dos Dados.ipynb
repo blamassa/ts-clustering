{
 "cells": [
  {
   "cell_type": "markdown",
   "metadata": {},
   "source": [
    "# Tratando os dados"
   ]
  },
  {
   "cell_type": "code",
   "execution_count": 1,
   "metadata": {},
   "outputs": [],
   "source": [
    "import pandas as pd\n",
    "import numpy as np"
   ]
  },
  {
   "cell_type": "markdown",
   "metadata": {},
   "source": [
    "- data_comma"
   ]
  },
  {
   "cell_type": "code",
   "execution_count": 65,
   "metadata": {},
   "outputs": [],
   "source": [
    "# Transformando as series em lista (para ser iteradas)\n",
    "import os\n",
    "list_files = os.listdir('./data_comma/hecho/')\n",
    "# list_files.remove('hecho')"
   ]
  },
  {
   "cell_type": "code",
   "execution_count": 64,
   "metadata": {},
   "outputs": [
    {
     "name": "stdout",
     "output_type": "stream",
     "text": [
      "0\n",
      "1\n",
      "2\n",
      "3\n",
      "4\n",
      "5\n",
      "6\n",
      "7\n",
      "8\n",
      "9\n",
      "10\n",
      "11\n",
      "12\n",
      "13\n",
      "14\n"
     ]
    }
   ],
   "source": [
    "i = 0\n",
    "for file in list_files:\n",
    "    print(i)\n",
    "    temp_df = pd.read_csv('./data_comma/'+file, encoding='latin1', sep=';')\n",
    "    temp_df = temp_df[~(temp_df['Data'] == 'Fonte')]\n",
    "    value_col = temp_df.columns[-1]\n",
    "    # Renomeando as series\n",
    "    name = value_col.split('-')[0].replace(' ','')\n",
    "    # formatando float\n",
    "    temp_df[value_col] = temp_df[value_col].str.replace(',','.').astype('float')\n",
    "    # padronizando os valores\n",
    "    temp_df[value_col] = temp_df[value_col]/np.max(temp_df[value_col])\n",
    "    temp_df.to_csv('./data_comma/hecho/'+ name+'.csv')\n",
    "    i = i+1"
   ]
  },
  {
   "cell_type": "markdown",
   "metadata": {},
   "source": [
    "- data_long"
   ]
  },
  {
   "cell_type": "code",
   "execution_count": 71,
   "metadata": {},
   "outputs": [],
   "source": [
    "# Transformando as series em lista (para ser iteradas)\n",
    "import os\n",
    "list_files = os.listdir('./data_long/')\n",
    "list_files.remove('hecho')"
   ]
  },
  {
   "cell_type": "code",
   "execution_count": 78,
   "metadata": {},
   "outputs": [
    {
     "name": "stdout",
     "output_type": "stream",
     "text": [
      "0\n",
      "1\n",
      "2\n",
      "3\n",
      "4\n",
      "5\n",
      "6\n",
      "7\n",
      "8\n",
      "9\n"
     ]
    }
   ],
   "source": [
    "i = 0\n",
    "for file in list_files:\n",
    "    print(i)\n",
    "    temp_df = pd.read_csv('./data_long/'+file, encoding='latin1', sep=';')\n",
    "    temp_df = temp_df[~(temp_df['Data'] == 'Fonte')]\n",
    "    value_col = temp_df.columns[-1]\n",
    "    # Renomeando as series\n",
    "    name = value_col.split('-')[0].replace(' ','')\n",
    "    # formatando float\n",
    "    temp_df[value_col] = temp_df[value_col].str.replace('.','').astype('int')\n",
    "    # padronizando os valores\n",
    "    temp_df[value_col] = temp_df[value_col]/np.max(temp_df[value_col])\n",
    "    temp_df.to_csv('./data_long/hecho/'+ name+'.csv')\n",
    "    i = i+1"
   ]
  },
  {
   "cell_type": "markdown",
   "metadata": {},
   "source": [
    "- data_hybrid"
   ]
  },
  {
   "cell_type": "code",
   "execution_count": 82,
   "metadata": {},
   "outputs": [],
   "source": [
    "# Transformando as series em lista (para ser iteradas)\n",
    "import os\n",
    "list_files = os.listdir('./data_hybrid/')\n",
    "list_files.remove('hecho')"
   ]
  },
  {
   "cell_type": "code",
   "execution_count": 103,
   "metadata": {},
   "outputs": [
    {
     "name": "stdout",
     "output_type": "stream",
     "text": [
      "0\n",
      "1\n",
      "2\n",
      "3\n"
     ]
    }
   ],
   "source": [
    "i = 0\n",
    "for file in list_files:\n",
    "    print(i)\n",
    "    temp_df = pd.read_csv('./data_hybrid/'+file, encoding='latin1', sep=';')\n",
    "    temp_df = temp_df[~(temp_df['Data'] == 'Fonte')]\n",
    "    value_col = temp_df.columns[-1]\n",
    "    # Renomeando as series\n",
    "    name = value_col.split('-')[0].replace(' ','')\n",
    "    # formatando float\n",
    "    temp_df[value_col] = temp_df[value_col].str.replace('.','')\n",
    "    temp_df[value_col] = temp_df[value_col].str.replace(',','.').astype('float')\n",
    "    # padronizando os valores\n",
    "    temp_df[value_col] = temp_df[value_col]/np.max(temp_df[value_col])\n",
    "    temp_df.to_csv('./data_hybrid/hecho/'+ name+'.csv')\n",
    "    i = i+1"
   ]
  }
 ],
 "metadata": {
  "kernelspec": {
   "display_name": "Python 3",
   "language": "python",
   "name": "python3"
  },
  "language_info": {
   "codemirror_mode": {
    "name": "ipython",
    "version": 3
   },
   "file_extension": ".py",
   "mimetype": "text/x-python",
   "name": "python",
   "nbconvert_exporter": "python",
   "pygments_lexer": "ipython3",
   "version": "3.6.5"
  }
 },
 "nbformat": 4,
 "nbformat_minor": 2
}
