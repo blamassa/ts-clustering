{
 "cells": [
  {
   "cell_type": "markdown",
   "metadata": {},
   "source": [
    "# Tratando os dados"
   ]
  },
  {
   "cell_type": "code",
   "execution_count": 1,
   "metadata": {},
   "outputs": [],
   "source": [
    "import pandas as pd\n",
    "import numpy as np"
   ]
  },
  {
   "cell_type": "code",
   "execution_count": 11,
   "metadata": {},
   "outputs": [],
   "source": [
    "from sklearn.preprocessing import minmax_scale\n",
    "# Normalizar os dados\n",
    "#Scikit learn version \n",
    "def normalize_list_numpy(list_numpy):\n",
    "    normalized_list = minmax_scale(list_numpy)\n",
    "    return normalized_list"
   ]
  },
  {
   "cell_type": "markdown",
   "metadata": {},
   "source": [
    "**obs:** Foi necessário utilizar a função acima (normalização linear), pois existem séries com valores negativos. A função que eu estava utilizando (x/max(X)) somente funciona seo o menor valor é igual ou maior que zero."
   ]
  },
  {
   "cell_type": "markdown",
   "metadata": {},
   "source": [
    "- data_comma"
   ]
  },
  {
   "cell_type": "code",
   "execution_count": 8,
   "metadata": {},
   "outputs": [],
   "source": [
    "# Transformando as series em lista (para ser iteradas)\n",
    "import os\n",
    "list_files = os.listdir('./data_comma/')\n",
    "list_files.remove('hecho')"
   ]
  },
  {
   "cell_type": "code",
   "execution_count": 12,
   "metadata": {},
   "outputs": [
    {
     "name": "stdout",
     "output_type": "stream",
     "text": [
      "0\n",
      "1\n",
      "2\n",
      "3\n",
      "4\n",
      "5\n",
      "6\n",
      "7\n",
      "8\n",
      "9\n",
      "10\n",
      "11\n",
      "12\n",
      "13\n",
      "14\n"
     ]
    }
   ],
   "source": [
    "i = 0\n",
    "for file in list_files:\n",
    "    print(i)\n",
    "    temp_df = pd.read_csv('./data_comma/'+file, encoding='latin1', sep=';')\n",
    "    temp_df = temp_df[~(temp_df['Data'] == 'Fonte')]\n",
    "    value_col = temp_df.columns[-1]\n",
    "    # Renomeando as series\n",
    "    name = value_col.split('-')[0].replace(' ','')\n",
    "    # formatando float\n",
    "    temp_df[value_col] = temp_df[value_col].str.replace(',','.').astype('float')\n",
    "    # padronizando os valores\n",
    "    temp_df[value_col] = normalize_list_numpy(temp_df[value_col])\n",
    "    temp_df.to_csv('./data_comma/hecho/'+ name+'.csv')\n",
    "    i = i+1"
   ]
  },
  {
   "cell_type": "markdown",
   "metadata": {},
   "source": [
    "- data_long"
   ]
  },
  {
   "cell_type": "code",
   "execution_count": 13,
   "metadata": {},
   "outputs": [],
   "source": [
    "# Transformando as series em lista (para ser iteradas)\n",
    "import os\n",
    "list_files = os.listdir('./data_long/')\n",
    "list_files.remove('hecho')"
   ]
  },
  {
   "cell_type": "code",
   "execution_count": 14,
   "metadata": {},
   "outputs": [
    {
     "name": "stdout",
     "output_type": "stream",
     "text": [
      "0\n",
      "1\n",
      "2\n"
     ]
    },
    {
     "name": "stderr",
     "output_type": "stream",
     "text": [
      "/home/breno/.virtualenvs/dtsci/lib/python3.6/site-packages/sklearn/utils/validation.py:595: DataConversionWarning: Data with input dtype int64 was converted to float64.\n",
      "  warnings.warn(msg, DataConversionWarning)\n",
      "/home/breno/.virtualenvs/dtsci/lib/python3.6/site-packages/sklearn/utils/validation.py:595: DataConversionWarning: Data with input dtype int64 was converted to float64.\n",
      "  warnings.warn(msg, DataConversionWarning)\n",
      "/home/breno/.virtualenvs/dtsci/lib/python3.6/site-packages/sklearn/utils/validation.py:595: DataConversionWarning: Data with input dtype int64 was converted to float64.\n",
      "  warnings.warn(msg, DataConversionWarning)\n",
      "/home/breno/.virtualenvs/dtsci/lib/python3.6/site-packages/sklearn/utils/validation.py:595: DataConversionWarning: Data with input dtype int64 was converted to float64.\n",
      "  warnings.warn(msg, DataConversionWarning)\n",
      "/home/breno/.virtualenvs/dtsci/lib/python3.6/site-packages/sklearn/utils/validation.py:595: DataConversionWarning: Data with input dtype int64 was converted to float64.\n",
      "  warnings.warn(msg, DataConversionWarning)\n"
     ]
    },
    {
     "name": "stdout",
     "output_type": "stream",
     "text": [
      "3\n",
      "4\n",
      "5\n",
      "6\n",
      "7\n",
      "8\n",
      "9\n"
     ]
    },
    {
     "name": "stderr",
     "output_type": "stream",
     "text": [
      "/home/breno/.virtualenvs/dtsci/lib/python3.6/site-packages/sklearn/utils/validation.py:595: DataConversionWarning: Data with input dtype int64 was converted to float64.\n",
      "  warnings.warn(msg, DataConversionWarning)\n",
      "/home/breno/.virtualenvs/dtsci/lib/python3.6/site-packages/sklearn/utils/validation.py:595: DataConversionWarning: Data with input dtype int64 was converted to float64.\n",
      "  warnings.warn(msg, DataConversionWarning)\n",
      "/home/breno/.virtualenvs/dtsci/lib/python3.6/site-packages/sklearn/utils/validation.py:595: DataConversionWarning: Data with input dtype int64 was converted to float64.\n",
      "  warnings.warn(msg, DataConversionWarning)\n",
      "/home/breno/.virtualenvs/dtsci/lib/python3.6/site-packages/sklearn/utils/validation.py:595: DataConversionWarning: Data with input dtype int64 was converted to float64.\n",
      "  warnings.warn(msg, DataConversionWarning)\n",
      "/home/breno/.virtualenvs/dtsci/lib/python3.6/site-packages/sklearn/utils/validation.py:595: DataConversionWarning: Data with input dtype int64 was converted to float64.\n",
      "  warnings.warn(msg, DataConversionWarning)\n"
     ]
    }
   ],
   "source": [
    "i = 0\n",
    "for file in list_files:\n",
    "    print(i)\n",
    "    temp_df = pd.read_csv('./data_long/'+file, encoding='latin1', sep=';')\n",
    "    temp_df = temp_df[~(temp_df['Data'] == 'Fonte')]\n",
    "    value_col = temp_df.columns[-1]\n",
    "    # Renomeando as series\n",
    "    name = value_col.split('-')[0].replace(' ','')\n",
    "    # formatando float\n",
    "    temp_df[value_col] = temp_df[value_col].str.replace('.','').astype('int')\n",
    "    # padronizando os valores\n",
    "    temp_df[value_col] = normalize_list_numpy(temp_df[value_col])\n",
    "    temp_df.to_csv('./data_long/hecho/'+ name+'.csv')\n",
    "    i = i+1"
   ]
  },
  {
   "cell_type": "markdown",
   "metadata": {},
   "source": [
    "- data_hybrid"
   ]
  },
  {
   "cell_type": "code",
   "execution_count": 15,
   "metadata": {},
   "outputs": [],
   "source": [
    "# Transformando as series em lista (para ser iteradas)\n",
    "import os\n",
    "list_files = os.listdir('./data_hybrid/')\n",
    "list_files.remove('hecho')"
   ]
  },
  {
   "cell_type": "code",
   "execution_count": 16,
   "metadata": {},
   "outputs": [
    {
     "name": "stdout",
     "output_type": "stream",
     "text": [
      "0\n",
      "1\n",
      "2\n",
      "3\n"
     ]
    }
   ],
   "source": [
    "i = 0\n",
    "for file in list_files:\n",
    "    print(i)\n",
    "    temp_df = pd.read_csv('./data_hybrid/'+file, encoding='latin1', sep=';')\n",
    "    temp_df = temp_df[~(temp_df['Data'] == 'Fonte')]\n",
    "    value_col = temp_df.columns[-1]\n",
    "    # Renomeando as series\n",
    "    name = value_col.split('-')[0].replace(' ','')\n",
    "    # formatando float\n",
    "    temp_df[value_col] = temp_df[value_col].str.replace('.','')\n",
    "    temp_df[value_col] = temp_df[value_col].str.replace(',','.').astype('float')\n",
    "    # padronizando os valores\n",
    "    temp_df[value_col] = normalize_list_numpy(temp_df[value_col])\n",
    "    temp_df.to_csv('./data_hybrid/hecho/'+ name+'.csv')\n",
    "    i = i+1"
   ]
  },
  {
   "cell_type": "code",
   "execution_count": null,
   "metadata": {},
   "outputs": [],
   "source": []
  }
 ],
 "metadata": {
  "kernelspec": {
   "display_name": "Python 3",
   "language": "python",
   "name": "python3"
  },
  "language_info": {
   "codemirror_mode": {
    "name": "ipython",
    "version": 3
   },
   "file_extension": ".py",
   "mimetype": "text/x-python",
   "name": "python",
   "nbconvert_exporter": "python",
   "pygments_lexer": "ipython3",
   "version": "3.6.5"
  }
 },
 "nbformat": 4,
 "nbformat_minor": 2
}
